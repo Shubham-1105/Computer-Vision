{
 "cells": [
  {
   "cell_type": "code",
   "execution_count": 1,
   "metadata": {},
   "outputs": [],
   "source": [
    "import cv2\n",
    "import numpy as np\n",
    "import matplotlib.pyplot as plt"
   ]
  },
  {
   "cell_type": "code",
   "execution_count": 5,
   "metadata": {},
   "outputs": [],
   "source": [
    "dino=cv2.imread('d.png')"
   ]
  },
  {
   "cell_type": "code",
   "execution_count": 3,
   "metadata": {},
   "outputs": [],
   "source": [
    "gau=cv2.GaussianBlur(dino.copy(),(7,7),0)"
   ]
  },
  {
   "cell_type": "code",
   "execution_count": 4,
   "metadata": {},
   "outputs": [],
   "source": [
    "#Dinosaur Outline\n",
    "e=cv2.Canny(gau,70,220)\n",
    "cv2.imshow(\"Dinosaur Outline\",e)\n",
    "cv2.waitKey(0)\n",
    "cv2.destroyAllWindows()"
   ]
  },
  {
   "cell_type": "code",
   "execution_count": 5,
   "metadata": {},
   "outputs": [],
   "source": [
    "gray=cv2.cvtColor(dino,cv2.COLOR_BGR2GRAY)\n",
    "g=cv2.Canny(gray,50,150)\n",
    "cv2.imshow(\"Gray Image\",g)\n",
    "cv2.waitKey(0)\n",
    "cv2.destroyAllWindows()"
   ]
  },
  {
   "cell_type": "code",
   "execution_count": 6,
   "metadata": {},
   "outputs": [
    {
     "name": "stdout",
     "output_type": "stream",
     "text": [
      "Numbers of contours are :  263\n"
     ]
    }
   ],
   "source": [
    "contours, hierarchy = cv2.findContours(g, cv2.RETR_LIST, cv2.CHAIN_APPROX_NONE)\n",
    "print('Numbers of contours are : ', len(contours))\n",
    "cv2.drawContours(dino.copy(), contours, -1, (0, 0, 255), 3)\n",
    "cv2.imshow(\"Gray Image\",dino.copy())\n",
    "cv2.waitKey(0)\n",
    "cv2.destroyAllWindows()"
   ]
  },
  {
   "cell_type": "code",
   "execution_count": 10,
   "metadata": {},
   "outputs": [],
   "source": [
    "#Hand Contour\n",
    "video=cv2.VideoCapture(0)\n",
    "\n",
    "while True:\n",
    "    ret,frame=video.read()\n",
    "    gray=cv2.cvtColor(frame,cv2.COLOR_BGR2GRAY)\n",
    "    blur=cv2.GaussianBlur(gray,(5,5),0)\n",
    "    can=cv2.Canny(blur,70,150)\n",
    "    contours,hierarchy=cv2.findContours(can,cv2.RETR_EXTERNAL,cv2.CHAIN_APPROX_SIMPLE)\n",
    "    cv2.drawContours(frame, contours, -1, (0, 0, 255), 3)\n",
    "    cv2.imshow(\"Hand Contour\",frame)\n",
    "    if cv2.waitKey(33) == 27:\n",
    "        break\n",
    "video.release()\n",
    "cv2.destroyAllWindows()"
   ]
  },
  {
   "cell_type": "code",
   "execution_count": 3,
   "metadata": {},
   "outputs": [],
   "source": [
    "#Live Running Sketch\n",
    "import cv2\n",
    "\n",
    "cap = cv2.VideoCapture(0)\n",
    "\n",
    "while True:\n",
    "\tret, frame = cap.read()                        # Reading the Frame\n",
    "\tgray = cv2.cvtColor(frame, cv2.COLOR_BGR2GRAY)# Converting it to GrayScale\n",
    "\tblur = cv2.GaussianBlur(gray , (5,5), 0)     #  Blurring\n",
    "\tedge = cv2.Canny(blur, 70, 110)             #   Finding Edges\n",
    "\tret, thresh = cv2.threshold(edge, 170, 255, cv2.THRESH_BINARY_INV)  # Thresholding\n",
    "\tcv2.imshow(\"sfdf\",thresh)\n",
    "\n",
    "\tif cv2.waitKey(33) == 27:\n",
    "\t\tbreak;\n",
    "cap.release()\n",
    "cv2.destroyAllWindows()"
   ]
  },
  {
   "cell_type": "code",
   "execution_count": 22,
   "metadata": {},
   "outputs": [],
   "source": [
    "#Removing Green Color\n",
    "m=dino.copy()\n",
    "hsv=cv2.cvtColor(m,cv2.COLOR_BGR2HSV)\n",
    "low_green = np.array([25, 52, 72])\n",
    "high_green = np.array([102, 255, 255])\n",
    "green_mask = cv2.inRange(hsv, low_green, high_green)\n",
    "#green = cv2.bitwise_and(m,m, mask=green_mask)\n",
    "m[green_mask==0]=[0,0,0]\n",
    "cv2.imshow(\"Image after Green Color\",m)\n",
    "cv2.waitKey(0)\n",
    "cv2.destroyAllWindows()\n"
   ]
  },
  {
   "cell_type": "code",
   "execution_count": null,
   "metadata": {},
   "outputs": [],
   "source": []
  },
  {
   "cell_type": "code",
   "execution_count": null,
   "metadata": {},
   "outputs": [],
   "source": []
  }
 ],
 "metadata": {
  "kernelspec": {
   "display_name": "Python 3",
   "language": "python",
   "name": "python3"
  },
  "language_info": {
   "codemirror_mode": {
    "name": "ipython",
    "version": 3
   },
   "file_extension": ".py",
   "mimetype": "text/x-python",
   "name": "python",
   "nbconvert_exporter": "python",
   "pygments_lexer": "ipython3",
   "version": "3.7.6"
  }
 },
 "nbformat": 4,
 "nbformat_minor": 4
}
